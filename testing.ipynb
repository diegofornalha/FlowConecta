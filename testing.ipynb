{
 "cells": [
  {
   "cell_type": "code",
   "execution_count": null,
   "metadata": {},
   "outputs": [
    {
     "name": "stdout",
     "output_type": "stream",
     "text": [
      "Recommendations for User5: ['Event5', 'Event7', 'Event1', 'Event2', 'Event3', 'Event4', 'Event6', 'Event8']\n"
     ]
    }
   ],
   "source": [
    "import pandas as pd\n",
    "import numpy as np\n",
    "from sklearn.metrics.pairwise import cosine_similarity\n",
    "\n",
    "# Sample data\n",
    "data = {\n",
    "    'Event1': [1, 0, 1, 0, 0],\n",
    "    'Event2': [0, 1, 0, 1, 0],\n",
    "    'Event3': [1, 1, 0, 0, 0],\n",
    "    'Event4': [0, 0, 1, 1, 0],\n",
    "    'Event5': [1, 1, 1, 0, 0],\n",
    "    'Event6': [0, 1, 0, 0, 0],\n",
    "    'Event7': [1, 1, 1, 1, 0],\n",
    "    'Event8': [0, 0, 1, 1, 0]\n",
    "}\n",
    "\n",
    "# Create DataFrame\n",
    "df = pd.DataFrame(data, index=['User1', 'User2', 'User3', 'User4', 'User5'])\n",
    "\n",
    "# Calculate cosine similarity between users\n",
    "user_similarity = cosine_similarity(df)\n",
    "user_similarity_df = pd.DataFrame(user_similarity, index=df.index, columns=df.index)\n",
    "\n",
    "# Function to recommend events\n",
    "def recommend_events(user, df, user_similarity_df, top_n=2):\n",
    "    similar_users = user_similarity_df[user].sort_values(ascending=False).index[1:top_n+1]\n",
    "    recommended_events = df.loc[similar_users].sum().sort_values(ascending=False).index\n",
    "    attended_events = df.loc[user][df.loc[user] == 1].index\n",
    "    recommendations = [event for event in recommended_events if event not in attended_events]\n",
    "    return recommendations\n",
    "\n",
    "# Example usage\n",
    "user_to_recommend = 'User5'\n",
    "recommendations = recommend_events(user_to_recommend, df, user_similarity_df)\n",
    "print(f\"Recommendations for {user_to_recommend}: {recommendations}\")"
   ]
  }
 ],
 "metadata": {
  "kernelspec": {
   "display_name": "Python 3",
   "language": "python",
   "name": "python3"
  },
  "language_info": {
   "codemirror_mode": {
    "name": "ipython",
    "version": 3
   },
   "file_extension": ".py",
   "mimetype": "text/x-python",
   "name": "python",
   "nbconvert_exporter": "python",
   "pygments_lexer": "ipython3",
   "version": "3.12.4"
  }
 },
 "nbformat": 4,
 "nbformat_minor": 2
}
